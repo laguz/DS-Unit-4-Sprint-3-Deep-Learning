{
  "nbformat": 4,
  "nbformat_minor": 0,
  "metadata": {
    "kernelspec": {
      "display_name": "py37  (Python3)",
      "language": "python",
      "name": "py37"
    },
    "language_info": {
      "codemirror_mode": {
        "name": "ipython",
        "version": 3
      },
      "file_extension": ".py",
      "mimetype": "text/x-python",
      "name": "python",
      "nbconvert_exporter": "python",
      "pygments_lexer": "ipython3",
      "version": "3.7.0"
    },
    "nteract": {
      "version": "0.23.3"
    },
    "colab": {
      "name": "LS_DS_431_RNN_and_LSTM_Assignment.ipynb",
      "provenance": []
    }
  },
  "cells": [
    {
      "cell_type": "markdown",
      "metadata": {
        "id": "sMjDxqYvbMfI"
      },
      "source": [
        "\n",
        "## *Data Science Unit 4 Sprint 3 Assignment 1*\n",
        "\n",
        "# Recurrent Neural Networks and Long Short Term Memory (LSTM)\n",
        "\n",
        "![Monkey at a typewriter](https://upload.wikimedia.org/wikipedia/commons/thumb/3/3c/Chimpanzee_seated_at_typewriter.jpg/603px-Chimpanzee_seated_at_typewriter.jpg)\n",
        "\n",
        "It is said that [**infinite monkeys typing for an infinite amount of time**](https://en.wikipedia.org/wiki/Infinite_monkey_theorem) will eventually type, among other things, the complete works of William Shakespeare. Let's see if we can get there a bit faster, with the power of Recurrent Neural Networks and LSTM.\n",
        "\n",
        "We will focus specifically on Shakespeare's Sonnets in order to improve our model's ability to learn from the data."
      ]
    },
    {
      "cell_type": "code",
      "metadata": {
        "execution": {
          "iopub.execute_input": "2020-06-15T18:18:20.453Z",
          "iopub.status.busy": "2020-06-15T18:18:20.442Z",
          "iopub.status.idle": "2020-06-15T18:18:20.513Z",
          "shell.execute_reply": "2020-06-15T18:18:20.523Z"
        },
        "id": "GhHjTSGDbMfJ"
      },
      "source": [
        "import random\n",
        "import sys\n",
        "import os\n",
        "\n",
        "import requests\n",
        "import pandas as pd\n",
        "import numpy as np\n",
        "import matplotlib.pyplot as plt\n",
        "from tensorflow.keras.callbacks import LambdaCallback\n",
        "\n",
        "from tensorflow.keras.preprocessing import sequence\n",
        "from tensorflow.keras.models import Sequential\n",
        "from tensorflow.keras.layers import Dense, Embedding, Bidirectional\n",
        "from tensorflow.keras.layers import LSTM\n",
        "\n",
        "%matplotlib inline\n",
        "\n",
        "# a custom data prep class that we'll be using \n",
        "#from data_cleaning_toolkit_class import data_cleaning_toolkit"
      ],
      "execution_count": 2,
      "outputs": []
    },
    {
      "cell_type": "markdown",
      "metadata": {
        "id": "G53Y-bTpbMfK"
      },
      "source": [
        "### Use request to pull data from a URL\n",
        "\n",
        "[**Read through the request documentation**](https://requests.readthedocs.io/en/master/user/quickstart/#make-a-request) in order to learn how to download the Shakespeare Sonnets from the Gutenberg website. \n",
        "\n",
        "**Protip:** Do not over think it."
      ]
    },
    {
      "cell_type": "code",
      "metadata": {
        "deletable": false,
        "nbgrader": {
          "cell_type": "code",
          "checksum": "6ac79c2e9a53d747ebf8fb41f4b39340",
          "grade": false,
          "grade_id": "cell-b8ececfad1f60557",
          "locked": false,
          "schema_version": 3,
          "solution": true,
          "task": false
        },
        "id": "Aqixgm1BbMfL"
      },
      "source": [
        "# download all of Shakespears Sonnets from the Project Gutenberg website\n",
        "\n",
        "# here's the link for the sonnets\n",
        "url_shakespeare_sonnets = \"https://www.gutenberg.org/cache/epub/1041/pg1041.txt\"\n",
        "\n",
        "# use request and the url to download all of the sonnets - save the result to `r`\n",
        "\n",
        "r= requests.get(url_shakespeare_sonnets)"
      ],
      "execution_count": 3,
      "outputs": []
    },
    {
      "cell_type": "code",
      "metadata": {
        "deletable": false,
        "nbgrader": {
          "cell_type": "code",
          "checksum": "4ab4f4f14188a9f3703d43d223bfa150",
          "grade": false,
          "grade_id": "cell-0cd0c8509bc8e8cf",
          "locked": false,
          "schema_version": 3,
          "solution": true,
          "task": false
        },
        "id": "bKMdt7MHbMfL"
      },
      "source": [
        "# move the downloaded text out of the request object - save the result to `raw_text_data`\n",
        "# hint: take at look at the attributes of `r`\n",
        "\n",
        "raw_text_data = r.text"
      ],
      "execution_count": 4,
      "outputs": []
    },
    {
      "cell_type": "code",
      "metadata": {
        "id": "ieTcoCx6bMfL",
        "colab": {
          "base_uri": "https://localhost:8080/"
        },
        "outputId": "26600100-7ded-4f58-d179-e84e5601f24b"
      },
      "source": [
        "# check the data type of `raw_text_data`\n",
        "type(raw_text_data)"
      ],
      "execution_count": 5,
      "outputs": [
        {
          "output_type": "execute_result",
          "data": {
            "text/plain": [
              "str"
            ]
          },
          "metadata": {
            "tags": []
          },
          "execution_count": 5
        }
      ]
    },
    {
      "cell_type": "markdown",
      "metadata": {
        "id": "Si7-lIMubMfL"
      },
      "source": [
        "### Data Cleaning"
      ]
    },
    {
      "cell_type": "code",
      "metadata": {
        "id": "f3vpuZFobMfM",
        "colab": {
          "base_uri": "https://localhost:8080/",
          "height": 103
        },
        "outputId": "fd4f4af9-9311-484a-d387-d5a9b6ab26f8"
      },
      "source": [
        "# as usual, we are tasked with cleaning up messy data\n",
        "# Question: Do you see any characters that we could use to split up the text?\n",
        "raw_text_data[:3000]"
      ],
      "execution_count": 6,
      "outputs": [
        {
          "output_type": "execute_result",
          "data": {
            "application/vnd.google.colaboratory.intrinsic+json": {
              "type": "string"
            },
            "text/plain": [
              "\"\\ufeffThe Project Gutenberg EBook of Shakespeare's Sonnets, by William Shakespeare\\r\\n\\r\\nThis eBook is for the use of anyone anywhere at no cost and with\\r\\nalmost no restrictions whatsoever.  You may copy it, give it away or\\r\\nre-use it under the terms of the Project Gutenberg License included\\r\\nwith this eBook or online at www.gutenberg.org\\r\\n\\r\\n\\r\\nTitle: Shakespeare's Sonnets\\r\\n\\r\\nAuthor: William Shakespeare\\r\\n\\r\\nPosting Date: April 7, 2014 [EBook #1041]\\r\\nRelease Date: September, 1997\\r\\nLast Updated: March 10, 2010\\r\\n\\r\\nLanguage: English\\r\\n\\r\\n\\r\\n*** START OF THIS PROJECT GUTENBERG EBOOK SHAKESPEARE'S SONNETS ***\\r\\n\\r\\n\\r\\n\\r\\n\\r\\nProduced by Joseph S. Miller and Embry-Riddle Aeronautical\\r\\nUniversity Library. HTML version by Al Haines.\\r\\n\\r\\n\\r\\n\\r\\n\\r\\n\\r\\n\\r\\n\\r\\n\\r\\n\\r\\n\\r\\nTHE SONNETS\\r\\n\\r\\nby William Shakespeare\\r\\n\\r\\n\\r\\n\\r\\n\\r\\n  I\\r\\n\\r\\n  From fairest creatures we desire increase,\\r\\n  That thereby beauty's rose might never die,\\r\\n  But as the riper should by time decease,\\r\\n  His tender heir might bear his memory:\\r\\n  But thou, contracted to thine own bright eyes,\\r\\n  Feed'st thy light's flame with self-substantial fuel,\\r\\n  Making a famine where abundance lies,\\r\\n  Thy self thy foe, to thy sweet self too cruel:\\r\\n  Thou that art now the world's fresh ornament,\\r\\n  And only herald to the gaudy spring,\\r\\n  Within thine own bud buriest thy content,\\r\\n  And tender churl mak'st waste in niggarding:\\r\\n    Pity the world, or else this glutton be,\\r\\n    To eat the world's due, by the grave and thee.\\r\\n\\r\\n  II\\r\\n\\r\\n  When forty winters shall besiege thy brow,\\r\\n  And dig deep trenches in thy beauty's field,\\r\\n  Thy youth's proud livery so gazed on now,\\r\\n  Will be a tatter'd weed of small worth held:\\r\\n  Then being asked, where all thy beauty lies,\\r\\n  Where all the treasure of thy lusty days;\\r\\n  To say, within thine own deep sunken eyes,\\r\\n  Were an all-eating shame, and thriftless praise.\\r\\n  How much more praise deserv'd thy beauty's use,\\r\\n  If thou couldst answer 'This fair child of mine\\r\\n  Shall sum my count, and make my old excuse,'\\r\\n  Proving his beauty by succession thine!\\r\\n    This were to be new made when thou art old,\\r\\n    And see thy blood warm when thou feel'st it cold.\\r\\n\\r\\n  III\\r\\n\\r\\n  Look in thy glass and tell the face thou viewest\\r\\n  Now is the time that face should form another;\\r\\n  Whose fresh repair if now thou not renewest,\\r\\n  Thou dost beguile the world, unbless some mother.\\r\\n  For where is she so fair whose unear'd womb\\r\\n  Disdains the tillage of thy husbandry?\\r\\n  Or who is he so fond will be the tomb,\\r\\n  Of his self-love to stop posterity?\\r\\n  Thou art thy mother's glass and she in thee\\r\\n  Calls back the lovely April of her prime;\\r\\n  So thou through windows of thine age shalt see,\\r\\n  Despite of wrinkles this thy golden time.\\r\\n    But if thou live, remember'd not to be,\\r\\n    Die single and thine image dies with thee.\\r\\n\\r\\n  IV\\r\\n\\r\\n  Unthrifty loveliness, why dost thou spend\\r\\n  Upon thy self thy beauty's legacy?\\r\\n  Nature's bequest gives nothing, but doth lend,\\r\\n  And being frank she lends to those are free:\\r\\n  Then, beaut\""
            ]
          },
          "metadata": {
            "tags": []
          },
          "execution_count": 6
        }
      ]
    },
    {
      "cell_type": "code",
      "metadata": {
        "deletable": false,
        "nbgrader": {
          "cell_type": "code",
          "checksum": "13b66e41cc64459f0757f6f53a78e08f",
          "grade": false,
          "grade_id": "cell-916f742d2cea299a",
          "locked": false,
          "schema_version": 3,
          "solution": true,
          "task": false
        },
        "id": "HXulNlYsbMfM"
      },
      "source": [
        "# split the text into lines and save the result to `split_data`\n",
        "split_data = raw_text_data.replace('\\r\\n', '')\n",
        "split_data = raw_text_data.replace('\\ufeff', '')"
      ],
      "execution_count": 7,
      "outputs": []
    },
    {
      "cell_type": "code",
      "metadata": {
        "id": "5-5nvmGwbMfM",
        "colab": {
          "base_uri": "https://localhost:8080/",
          "height": 35
        },
        "outputId": "36fc60d8-8f70-4827-cbd2-f62ea8886d99"
      },
      "source": [
        "# we need to drop all the boilder plate text (i.e. titles and descriptions) as well as white spaces\n",
        "# so that we are left with only the sonnets themselves \n",
        "split_data[:20] "
      ],
      "execution_count": 12,
      "outputs": [
        {
          "output_type": "execute_result",
          "data": {
            "application/vnd.google.colaboratory.intrinsic+json": {
              "type": "string"
            },
            "text/plain": [
              "'The Project Gutenber'"
            ]
          },
          "metadata": {
            "tags": []
          },
          "execution_count": 12
        }
      ]
    },
    {
      "cell_type": "markdown",
      "metadata": {
        "id": "MYTrWzR-bMfM"
      },
      "source": [
        "**Use list index slicing in order to remove the titles and descriptions so we are only left with the sonnets.**\n"
      ]
    },
    {
      "cell_type": "code",
      "metadata": {
        "deletable": false,
        "nbgrader": {
          "cell_type": "code",
          "checksum": "00ead0a1024ff72116c24f6b473c1aac",
          "grade": false,
          "grade_id": "cell-1f388b88b0eec24a",
          "locked": false,
          "schema_version": 3,
          "solution": true,
          "task": false
        },
        "id": "K2N1ZU6kbMfN"
      },
      "source": [
        "# sonnets exists between these indicies \n",
        "# titles and descriptions exist outside of these indicies\n",
        "\n",
        "# use index slicing to isolate the sonnet lines - save the result to `sonnets`\n",
        "\n",
        "maxlen = 40\n",
        "step = 5\n",
        "\n",
        "chars = list(set(split_data))\n",
        "\n",
        "# Lookup Tables\n",
        "char_int = {c:i for i, c in enumerate(chars)}\n",
        "int_char = {i:c for i, c in enumerate(chars)}\n",
        "\n",
        "sonnets = [char_int[c] for c in split_data]\n",
        "\n",
        "sequences = []\n",
        "next_char = []\n",
        "\n",
        "for i in range(0, len(sonnets) -maxlen, step):\n",
        "  sequences.append(sonnets[i: i+maxlen ])\n",
        "  next_char.append(sonnets[i+maxlen])"
      ],
      "execution_count": 29,
      "outputs": []
    },
    {
      "cell_type": "code",
      "metadata": {
        "id": "vep_7XnFbMfN",
        "outputId": "c27b2483-4dff-4653-8d12-a323efa3d052",
        "colab": {
          "base_uri": "https://localhost:8080/"
        }
      },
      "source": [
        "# notice how all non-sonnet lines have far less characters than the actual sonnet lines?\n",
        "# well, let's use that observation to filter out all the non-sonnet lines\n",
        "sonnets[200:240]"
      ],
      "execution_count": 30,
      "outputs": [
        {
          "output_type": "execute_result",
          "data": {
            "text/plain": [
              "[77,\n",
              " 12,\n",
              " 15,\n",
              " 79,\n",
              " 77,\n",
              " 75,\n",
              " 79,\n",
              " 3,\n",
              " 28,\n",
              " 3,\n",
              " 38,\n",
              " 79,\n",
              " 16,\n",
              " 17,\n",
              " 13,\n",
              " 65,\n",
              " 17,\n",
              " 15,\n",
              " 78,\n",
              " 67,\n",
              " 51,\n",
              " 15,\n",
              " 79,\n",
              " 77,\n",
              " 75,\n",
              " 79,\n",
              " 67,\n",
              " 22,\n",
              " 56,\n",
              " 15,\n",
              " 17,\n",
              " 79,\n",
              " 75,\n",
              " 64,\n",
              " 15,\n",
              " 79,\n",
              " 75,\n",
              " 15,\n",
              " 17,\n",
              " 25]"
            ]
          },
          "metadata": {
            "tags": []
          },
          "execution_count": 30
        }
      ]
    },
    {
      "cell_type": "code",
      "metadata": {
        "deletable": false,
        "nbgrader": {
          "cell_type": "code",
          "checksum": "649cf52260448a5faf539ad6b6e8e6e8",
          "grade": false,
          "grade_id": "cell-84c4b3cf1f3c032a",
          "locked": false,
          "schema_version": 3,
          "solution": true,
          "task": false
        },
        "id": "jw4ZSMDobMfN"
      },
      "source": [
        "# any string with less than n_chars characters will be filtered out - save results to `filtered_sonnets`\n",
        "\n",
        "# YOUR CODE HERE\n",
        "#raise NotImplementedError()"
      ],
      "execution_count": null,
      "outputs": []
    },
    {
      "cell_type": "code",
      "metadata": {
        "id": "y3dppmDrbMfN"
      },
      "source": [
        "# ok - much better!\n",
        "# but we still need to remove all the punctuation and case normalize the text\n",
        "#filtered_sonnets"
      ],
      "execution_count": null,
      "outputs": []
    },
    {
      "cell_type": "markdown",
      "metadata": {
        "id": "YHnjzalYbMfO"
      },
      "source": [
        "### Use custom data cleaning tool \n",
        "\n",
        "Use one of the methods in `data_cleaning_toolkit` to clean your data.\n",
        "\n",
        "There is an example of this in the guided project."
      ]
    },
    {
      "cell_type": "code",
      "metadata": {
        "deletable": false,
        "nbgrader": {
          "cell_type": "code",
          "checksum": "a722083a29139936744ff9a341e1c9a3",
          "grade": false,
          "grade_id": "cell-775c14b456d8a724",
          "locked": false,
          "schema_version": 3,
          "solution": true,
          "task": false
        },
        "id": "LkgRwTUdbMfO"
      },
      "source": [
        "# instantiate the data_cleaning_toolkit class - save result to `dctk`\n",
        "\n",
        "# YOUR CODE HERE\n",
        "#raise NotImplementedError()"
      ],
      "execution_count": null,
      "outputs": []
    },
    {
      "cell_type": "code",
      "metadata": {
        "deletable": false,
        "nbgrader": {
          "cell_type": "code",
          "checksum": "ab91e612cd08068f3a36172979157d5d",
          "grade": false,
          "grade_id": "cell-684010b6a7360876",
          "locked": false,
          "schema_version": 3,
          "solution": true,
          "task": false
        },
        "id": "h9j7QNzpbMfO"
      },
      "source": [
        "# use data_cleaning_toolkit to remove punctuation and to case normalize - save results to `clean_sonnets`\n",
        "\n",
        "# YOUR CODE HERE\n",
        "#raise NotImplementedError()"
      ],
      "execution_count": null,
      "outputs": []
    },
    {
      "cell_type": "code",
      "metadata": {
        "id": "6Px-cjTHbMfO"
      },
      "source": [
        "# much better!\n",
        "clean_sonnets = sonnets"
      ],
      "execution_count": 33,
      "outputs": []
    },
    {
      "cell_type": "markdown",
      "metadata": {
        "id": "TC4hgHgVbMfO"
      },
      "source": [
        "### Use your data tool to create character sequences \n",
        "\n",
        "We'll need the `create_char_sequenes` method for this task. However this method requires a parameter call `maxlen` which is responsible for setting the maximum sequence length. \n",
        "\n",
        "So what would be a good sequence length, exactly? \n",
        "\n",
        "In order to answer that question, let's do some statistics! "
      ]
    },
    {
      "cell_type": "code",
      "metadata": {
        "deletable": false,
        "nbgrader": {
          "cell_type": "code",
          "checksum": "1deebea2ada0a7dc7d2eb08295ee1e2b",
          "grade": false,
          "grade_id": "cell-9ebdaa2654dd29ab",
          "locked": false,
          "schema_version": 3,
          "solution": true,
          "task": false
        },
        "id": "gGFoCuGgbMfP"
      },
      "source": [
        "def calc_stats(corpus):\n",
        "    \"\"\"\n",
        "    Calculates statisics on the length of every line in the sonnets\n",
        "    \"\"\"\n",
        "    \n",
        "    # write a list comprehension that calculates each sonnets line length - save the results to `doc_lens` \n",
        "\n",
        "    # use numpy to calcualte and return the mean, median, std, max, min of the doc lens - all in one line of code\n",
        "\n",
        "    # YOUR CODE HERE\n",
        "    \"\"\"\n",
        "    Helper function to sample an index from a probability array\n",
        "    \"\"\"\n",
        "    # convert preds to array \n",
        "    preds = np.asarray(preds).astype('float64')\n",
        "    # scale values \n",
        "    preds = np.log(preds) / temperature\n",
        "    # exponentiate values\n",
        "    exp_preds = np.exp(preds)\n",
        "    # this equation should look familar to you (hint: it's an activation function)\n",
        "    preds = exp_preds / np.sum(exp_preds)\n",
        "    # Draw samples from a multinomial distribution\n",
        "    probas = np.random.multinomial(1, preds, 1)\n",
        "    # return the index that corresponds to the max probability \n",
        "    return np.argmax(probas)"
      ],
      "execution_count": 37,
      "outputs": []
    },
    {
      "cell_type": "code",
      "metadata": {
        "id": "kPL4HeO-bMfP",
        "outputId": "97ce60f2-1078-4a55-de33-d2ac45ccad6d",
        "colab": {
          "base_uri": "https://localhost:8080/",
          "height": 317
        }
      },
      "source": [
        "# sonnet line length statistics \n",
        "mean ,med, std, max_, min_ = calc_stats(clean_sonnets)\n",
        "mean, med, std, max_, min_ "
      ],
      "execution_count": 38,
      "outputs": [
        {
          "output_type": "error",
          "ename": "UnboundLocalError",
          "evalue": "ignored",
          "traceback": [
            "\u001b[0;31m---------------------------------------------------------------------------\u001b[0m",
            "\u001b[0;31mUnboundLocalError\u001b[0m                         Traceback (most recent call last)",
            "\u001b[0;32m<ipython-input-38-f7dc4b66e4b1>\u001b[0m in \u001b[0;36m<module>\u001b[0;34m()\u001b[0m\n\u001b[1;32m      1\u001b[0m \u001b[0;31m# sonnet line length statistics\u001b[0m\u001b[0;34m\u001b[0m\u001b[0;34m\u001b[0m\u001b[0;34m\u001b[0m\u001b[0m\n\u001b[0;32m----> 2\u001b[0;31m \u001b[0mmean\u001b[0m \u001b[0;34m,\u001b[0m\u001b[0mmed\u001b[0m\u001b[0;34m,\u001b[0m \u001b[0mstd\u001b[0m\u001b[0;34m,\u001b[0m \u001b[0mmax_\u001b[0m\u001b[0;34m,\u001b[0m \u001b[0mmin_\u001b[0m \u001b[0;34m=\u001b[0m \u001b[0mcalc_stats\u001b[0m\u001b[0;34m(\u001b[0m\u001b[0mclean_sonnets\u001b[0m\u001b[0;34m)\u001b[0m\u001b[0;34m\u001b[0m\u001b[0;34m\u001b[0m\u001b[0m\n\u001b[0m\u001b[1;32m      3\u001b[0m \u001b[0mmean\u001b[0m\u001b[0;34m,\u001b[0m \u001b[0mmed\u001b[0m\u001b[0;34m,\u001b[0m \u001b[0mstd\u001b[0m\u001b[0;34m,\u001b[0m \u001b[0mmax_\u001b[0m\u001b[0;34m,\u001b[0m \u001b[0mmin_\u001b[0m\u001b[0;34m\u001b[0m\u001b[0;34m\u001b[0m\u001b[0m\n",
            "\u001b[0;32m<ipython-input-37-6c0968a0c9fe>\u001b[0m in \u001b[0;36mcalc_stats\u001b[0;34m(corpus)\u001b[0m\n\u001b[1;32m     13\u001b[0m     \"\"\"\n\u001b[1;32m     14\u001b[0m     \u001b[0;31m# convert preds to array\u001b[0m\u001b[0;34m\u001b[0m\u001b[0;34m\u001b[0m\u001b[0;34m\u001b[0m\u001b[0m\n\u001b[0;32m---> 15\u001b[0;31m     \u001b[0mpreds\u001b[0m \u001b[0;34m=\u001b[0m \u001b[0mnp\u001b[0m\u001b[0;34m.\u001b[0m\u001b[0masarray\u001b[0m\u001b[0;34m(\u001b[0m\u001b[0mpreds\u001b[0m\u001b[0;34m)\u001b[0m\u001b[0;34m.\u001b[0m\u001b[0mastype\u001b[0m\u001b[0;34m(\u001b[0m\u001b[0;34m'float64'\u001b[0m\u001b[0;34m)\u001b[0m\u001b[0;34m\u001b[0m\u001b[0;34m\u001b[0m\u001b[0m\n\u001b[0m\u001b[1;32m     16\u001b[0m     \u001b[0;31m# scale values\u001b[0m\u001b[0;34m\u001b[0m\u001b[0;34m\u001b[0m\u001b[0;34m\u001b[0m\u001b[0m\n\u001b[1;32m     17\u001b[0m     \u001b[0mpreds\u001b[0m \u001b[0;34m=\u001b[0m \u001b[0mnp\u001b[0m\u001b[0;34m.\u001b[0m\u001b[0mlog\u001b[0m\u001b[0;34m(\u001b[0m\u001b[0mpreds\u001b[0m\u001b[0;34m)\u001b[0m \u001b[0;34m/\u001b[0m \u001b[0mtemperature\u001b[0m\u001b[0;34m\u001b[0m\u001b[0;34m\u001b[0m\u001b[0m\n",
            "\u001b[0;31mUnboundLocalError\u001b[0m: local variable 'preds' referenced before assignment"
          ]
        }
      ]
    },
    {
      "cell_type": "code",
      "metadata": {
        "deletable": false,
        "nbgrader": {
          "cell_type": "code",
          "checksum": "690957e46b6f2f32c1f17756d8ceab5b",
          "grade": false,
          "grade_id": "cell-35185e26897aad7e",
          "locked": false,
          "schema_version": 3,
          "solution": true,
          "task": false
        },
        "id": "rQld7WJ_bMfP"
      },
      "source": [
        "# using the results of the sonnet line length statistics, use your judgement and select a value for maxlen\n",
        "# use .create_char_sequences() to create sequences\n",
        "\n",
        "# YOUR CODE HERE\n",
        "raise NotImplementedError()"
      ],
      "execution_count": null,
      "outputs": []
    },
    {
      "cell_type": "markdown",
      "metadata": {
        "id": "9K8IQ3OjbMfQ"
      },
      "source": [
        "Take a look at the `data_cleaning_toolkit_class.py` file. \n",
        "\n",
        "In the first 4 lines of code in the `create_char_sequences` method, class attributes `n_features` and `unique_chars` are created. Let's call them in the cells below."
      ]
    },
    {
      "cell_type": "code",
      "metadata": {
        "id": "tEYRpgnzbMfQ"
      },
      "source": [
        "# number of input features for our LSTM model\n",
        "dctk.n_features"
      ],
      "execution_count": null,
      "outputs": []
    },
    {
      "cell_type": "code",
      "metadata": {
        "id": "aw5jiIpsbMfQ"
      },
      "source": [
        "# unique charactes that appear in our sonnets \n",
        "dctk.unique_chars"
      ],
      "execution_count": null,
      "outputs": []
    },
    {
      "cell_type": "markdown",
      "metadata": {
        "id": "xLFwB8H0bMfQ"
      },
      "source": [
        "## Time for Questions \n",
        "\n",
        "----\n",
        "**Question 1:** \n",
        "\n",
        "Why are the `number of unique characters` (i.e. **dctk.unique_chars**) and the `number of model input features` (i.e. **dctk.n_features**) the same?\n",
        "\n",
        "**Hint:** The model that we will shortly be building here is very similar to the text generation model that we built in the guided project."
      ]
    },
    {
      "cell_type": "markdown",
      "metadata": {
        "id": "TrKG6bDObMfQ"
      },
      "source": [
        "**Answer 1:**\n",
        "\n",
        "Write your answer here"
      ]
    },
    {
      "cell_type": "markdown",
      "metadata": {
        "id": "sJ9Ejn-AbMfQ"
      },
      "source": [
        "\n",
        "**Question 2:**\n",
        "\n",
        "Take a look at the print out of `dctk.unique_chars` one more time. Notice that there is a white space. \n",
        "\n",
        "Why is it desirable to have a white space as a possible character to predict?"
      ]
    },
    {
      "cell_type": "markdown",
      "metadata": {
        "id": "8DMsWPEYbMfR"
      },
      "source": [
        "**Answer 2:**\n",
        "\n",
        "Write your answer here"
      ]
    },
    {
      "cell_type": "markdown",
      "metadata": {
        "id": "3aKVB_4pbMfR"
      },
      "source": [
        "----"
      ]
    },
    {
      "cell_type": "markdown",
      "metadata": {
        "id": "WXT9okTUbMfR"
      },
      "source": [
        "### Use our data tool to create X and Y splits\n",
        "\n",
        "You'll need the `create_X_and_Y` method for this task. "
      ]
    },
    {
      "cell_type": "code",
      "metadata": {
        "id": "aw_JGRpNbMfR"
      },
      "source": [
        "# TODO: provide a walk through of data_cleaning_toolkit with unit tests that check for understanding \n",
        "X, y = dctk.create_X_and_Y()"
      ],
      "execution_count": null,
      "outputs": []
    },
    {
      "cell_type": "markdown",
      "metadata": {
        "id": "8i0QrodKbMfS"
      },
      "source": [
        "![](https://miro.medium.com/max/891/0*jGB1CGQ9HdeUwlgB)"
      ]
    },
    {
      "cell_type": "code",
      "metadata": {
        "id": "JffIHZcTbMfS"
      },
      "source": [
        "# notice that our input matrix isn't actually a matrix - it's a rank 3 tensor\n",
        "X.shape"
      ],
      "execution_count": null,
      "outputs": []
    },
    {
      "cell_type": "markdown",
      "metadata": {
        "id": "GfKebpG-bMfS"
      },
      "source": [
        "In $X$.shape we see three numbers (*n1*, *n2*, *n3*). What do these numbers mean?\n",
        "\n",
        "Well, *n1* tells us the number of samples that we have. But what about the other two?"
      ]
    },
    {
      "cell_type": "code",
      "metadata": {
        "id": "NuONRsjubMfS"
      },
      "source": [
        "# first index returns a signle sample, which we can see is a sequence \n",
        "first_sample_index = 0 \n",
        "X[first_sample_index]"
      ],
      "execution_count": null,
      "outputs": []
    },
    {
      "cell_type": "markdown",
      "metadata": {
        "id": "ylllaHHfbMfS"
      },
      "source": [
        "Notice that each sequence (i.e. $X[i]$ where $i$ is some index value) is `maxlen` long and has `dctk.n_features` number of features. Let's try to better understand this shape. "
      ]
    },
    {
      "cell_type": "code",
      "metadata": {
        "id": "Gz3aTNCLbMfS"
      },
      "source": [
        "# each sequence is maxlen long and has dctk.n_features number of features\n",
        "X[first_sample_index].shape"
      ],
      "execution_count": null,
      "outputs": []
    },
    {
      "cell_type": "markdown",
      "metadata": {
        "id": "rjJbDWnvbMfS"
      },
      "source": [
        "**Each row corresponds to a character vector** and there are `maxlen` number of character vectors. \n",
        "\n",
        "**Each column corresponds to a unique character** and there are `dctk.n_features` number of features. \n"
      ]
    },
    {
      "cell_type": "code",
      "metadata": {
        "id": "u0SoG7njbMfT"
      },
      "source": [
        "# let's index for a single character vector \n",
        "first_char_vect_index = 0\n",
        "X[first_sample_index][first_char_vect_index]"
      ],
      "execution_count": null,
      "outputs": []
    },
    {
      "cell_type": "markdown",
      "metadata": {
        "id": "sV335Zp8bMfT"
      },
      "source": [
        "Notice that there is a single `TRUE` value and all the rest of the values are `FALSE`. \n",
        "\n",
        "This is a one-hot encoding for which character appears at each index within a sequence. Specifically, the cell above is looking at the first character in the sequence.\n",
        "\n",
        "Only a single character can appear as the first character in a sequence, so there will necessarily be a single `TRUE` value and the rest will be `FALSE`. \n",
        "\n",
        "Let's say that `TRUE` appears in the $ith$ index; by  $ith$ index we simply mean some index in the general case. How can we find out which character that actually corresponds to?\n",
        "\n",
        "To answer this question, we need to use the character-to-integer look up dictionaries. "
      ]
    },
    {
      "cell_type": "code",
      "metadata": {
        "id": "YeqG5uqwbMfT"
      },
      "source": [
        "# take a look at the index to character dictionary\n",
        "# if a TRUE appears in the 0th index of a character vector,\n",
        "# then we know that whatever char you see below next to the 0th key \n",
        "# is the character that that character vector is endcoding for\n",
        "dctk.int_char"
      ],
      "execution_count": null,
      "outputs": []
    },
    {
      "cell_type": "code",
      "metadata": {
        "id": "SYmPRWKbbMfT"
      },
      "source": [
        "# let's look at an example to tie it all together\n",
        "\n",
        "seq_len_counter = 0\n",
        "\n",
        "# index for a single sample \n",
        "for seq_of_char_vects in X[first_sample_index]:\n",
        "    \n",
        "    # get index with max value, which will be the one TRUE value \n",
        "    index_with_TRUE_val = np.argmax(seq_of_char_vects)\n",
        "    \n",
        "    print (dctk.int_char[index_with_TRUE_val])\n",
        "    \n",
        "    seq_len_counter+=1\n",
        "    \n",
        "print (\"Sequence length: {}\".format(seq_len_counter))"
      ],
      "execution_count": null,
      "outputs": []
    },
    {
      "cell_type": "markdown",
      "metadata": {
        "id": "94AuU7pwbMfU"
      },
      "source": [
        "## Time for Questions \n",
        "\n",
        "----\n",
        "**Question 1:** \n",
        "\n",
        "In your own words, how would you describe the numbers from the shape print out of `X.shape` to a fellow classmate?\n"
      ]
    },
    {
      "cell_type": "markdown",
      "metadata": {
        "id": "mM7aB3T-bMfU"
      },
      "source": [
        "**Answer 1:**\n",
        "\n",
        "Write your answer here"
      ]
    },
    {
      "cell_type": "markdown",
      "metadata": {
        "id": "TAlVR8Z_bMfU"
      },
      "source": [
        "----\n"
      ]
    },
    {
      "cell_type": "markdown",
      "metadata": {
        "id": "2hsuGMDPbMfU"
      },
      "source": [
        "### Build a Text Generation model\n",
        "\n",
        "Now that we have prepped our data (and understood that process) let's finally build out our character generation model, similar to what we did in the guided project."
      ]
    },
    {
      "cell_type": "code",
      "metadata": {
        "id": "DiCrvkdUbMfU"
      },
      "source": [
        "def sample(preds, temperature=1.0):\n",
        "    \"\"\"\n",
        "    Helper function to sample an index from a probability array\n",
        "    \"\"\"\n",
        "    # convert preds to array \n",
        "    preds = np.asarray(preds).astype('float64')\n",
        "    # scale values \n",
        "    preds = np.log(preds) / temperature\n",
        "    # exponentiate values\n",
        "    exp_preds = np.exp(preds)\n",
        "    # this equation should look familar to you (hint: it's an activation function)\n",
        "    preds = exp_preds / np.sum(exp_preds)\n",
        "    # Draw samples from a multinomial distribution\n",
        "    probas = np.random.multinomial(1, preds, 1)\n",
        "    # return the index that corresponds to the max probability \n",
        "    return np.argmax(probas)\n",
        "\n",
        "def on_epoch_end(epoch, _):\n",
        "    \"\"\"\"\n",
        "    Function invoked at end of each epoch. Prints the text generated by our model.\n",
        "    \"\"\"\n",
        "    \n",
        "    print()\n",
        "    print('----- Generating text after Epoch: %d' % epoch)\n",
        "    \n",
        "\n",
        "    # randomly pick a starting index \n",
        "    # will be used to take a random sequence of chars from `text`\n",
        "    start_index = random.randint(0, len(text) - dctk.maxlen - 1)\n",
        "    \n",
        "    # this is our seed string (i.e. input seqeunce into the model)\n",
        "    generated = ''\n",
        "\n",
        "    # start the sentence at index `start_index` and include the next` dctk.maxlen` number of chars\n",
        "    sentence = text[start_index: start_index + dctk.maxlen]\n",
        "\n",
        "    # add to generated\n",
        "    generated += sentence\n",
        "\n",
        "    \n",
        "    print('----- Generating with seed: \"' + sentence + '\"')\n",
        "    sys.stdout.write(generated)\n",
        "    \n",
        "    # use model to predict what the next 40 chars should be that follow the seed string\n",
        "    for i in range(40):\n",
        "\n",
        "        # shape of a single sample in a rank 3 tensor \n",
        "        x_dims = (1, dctk.maxlen, dctk.n_features)\n",
        "        # create an array of zeros with shape x_dims\n",
        "        # recall that python considers zeros and boolean FALSE as the same\n",
        "        x_pred = np.zeros(x_dims)\n",
        "\n",
        "        # create a seq vector for our randomly select sequence \n",
        "        # i.e. create a numerical encoding for each char in the sequence \n",
        "        for t, char in enumerate(sentence):\n",
        "            # for sample 0 in seq index t and character `char` encode a 1 (which is the same as a TRUE)\n",
        "            x_pred[0, t, dctk.char_int[char]] = 1\n",
        "\n",
        "        # next, take the seq vector and pass into model to get a prediction of what the next char should be \n",
        "        preds = model.predict(x_pred, verbose=0)[0]\n",
        "        # use the sample helper function to get index for next char \n",
        "        next_index = sample(preds)\n",
        "        # use look up dict to get next char \n",
        "        next_char = dctk.int_char[next_index]\n",
        "\n",
        "        # append next char to sequence \n",
        "        sentence = sentence[1:] + next_char \n",
        "        \n",
        "        sys.stdout.write(next_char)\n",
        "        sys.stdout.flush()\n",
        "    print()"
      ],
      "execution_count": null,
      "outputs": []
    },
    {
      "cell_type": "code",
      "metadata": {
        "id": "RMPMHatBbMfV"
      },
      "source": [
        "# need this for on_epoch_end()\n",
        "text = \" \".join(clean_sonnets)"
      ],
      "execution_count": null,
      "outputs": []
    },
    {
      "cell_type": "code",
      "metadata": {
        "id": "HdPDD2pIbMfV"
      },
      "source": [
        "# create callback object that will print out text generation at the end of each epoch \n",
        "# use for real-time monitoring of model performance\n",
        "print_callback = LambdaCallback(on_epoch_end=on_epoch_end)"
      ],
      "execution_count": null,
      "outputs": []
    },
    {
      "cell_type": "markdown",
      "metadata": {
        "id": "e1FvprwMbMfW"
      },
      "source": [
        "----\n",
        "### Train Model\n",
        "\n",
        "Build a text generation model using LSTMs. Feel free to reference the model used in the guided project. \n",
        "\n",
        "It is recommended that you train this model to at least 50 epochs (but more if you're computer can handle it). \n",
        "\n",
        "You are free to change up the architecture as you wish. \n",
        "\n",
        "Just in case you have difficultly training a model, there is a pre-trained model saved to a file called `trained_text_gen_model.h5` that you can load in (the same way that you learned how to load in Keras models in Sprint 2 Module 4). "
      ]
    },
    {
      "cell_type": "code",
      "metadata": {
        "deletable": false,
        "nbgrader": {
          "cell_type": "code",
          "checksum": "e17312b57e17284124ce562dff81b00d",
          "grade": false,
          "grade_id": "cell-f34be90367fd9071",
          "locked": false,
          "schema_version": 3,
          "solution": true,
          "task": false
        },
        "id": "66_frfL7bMfW"
      },
      "source": [
        "# build text generation model layer by layer \n",
        "# fit model\n",
        "\n",
        "# YOUR CODE HERE\n",
        "raise NotImplementedError()"
      ],
      "execution_count": null,
      "outputs": []
    },
    {
      "cell_type": "code",
      "metadata": {
        "id": "vm0KnBaebMfW"
      },
      "source": [
        "# save trained model to file \n",
        "model.save(\"trained_text_gen_model.h5\")"
      ],
      "execution_count": null,
      "outputs": []
    },
    {
      "cell_type": "markdown",
      "metadata": {
        "id": "0p8H-7WgbMfW"
      },
      "source": [
        "### Let's play with our trained model \n",
        "\n",
        "Now that we have a trained model that, though far from perfect, is able to generate actual English words, we can take a look at the predictions to continue to learn more about how a text generation model works. \n",
        "\n",
        "We can also take this as an opportunity to unpack the `def on_epoch_end` function to better understand how it works. "
      ]
    },
    {
      "cell_type": "code",
      "metadata": {
        "id": "Yn0JlSoibMfX"
      },
      "source": [
        "# this is our joinned clean sonnet data\n",
        "text"
      ],
      "execution_count": null,
      "outputs": []
    },
    {
      "cell_type": "code",
      "metadata": {
        "id": "N7E39zVxbMfX"
      },
      "source": [
        "# randomly pick a starting index \n",
        "# will be used to take a random sequence of chars from `text`\n",
        "# run this cell a few times and you'll see `start_index` is random\n",
        "start_index = random.randint(0, len(text) - dctk.maxlen - 1)\n",
        "start_index"
      ],
      "execution_count": null,
      "outputs": []
    },
    {
      "cell_type": "code",
      "metadata": {
        "id": "-yZHYf_JbMfX"
      },
      "source": [
        "# next use the randomly selected starting index to sample a sequence from the `text`\n",
        "\n",
        "# this is our seed string (i.e. input seqeunce into the model)\n",
        "generated = ''\n",
        "\n",
        "# start the sentence at index `start_index` and include the next` dctk.maxlen` number of chars\n",
        "sentence = text[start_index: start_index + dctk.maxlen]\n",
        "\n",
        "# add to generated\n",
        "generated += sentence\n",
        "\n",
        "generated"
      ],
      "execution_count": null,
      "outputs": []
    },
    {
      "cell_type": "code",
      "metadata": {
        "id": "asOMvWImbMfX"
      },
      "source": [
        "# this block of code let's us know what the seed string is \n",
        "# i.e. the input seqeunce into the model\n",
        "print('----- Generating with seed: \"' + sentence + '\"')\n",
        "sys.stdout.write(generated)"
      ],
      "execution_count": null,
      "outputs": []
    },
    {
      "cell_type": "code",
      "metadata": {
        "id": "DkyijMhTbMfY"
      },
      "source": [
        "# use model to predict what the next 40 chars should be that follow the seed string\n",
        "for i in range(40):\n",
        "\n",
        "    # shape of a single sample in a rank 3 tensor \n",
        "    x_dims = (1, dctk.maxlen, dctk.n_features)\n",
        "    # create an array of zeros with shape x_dims\n",
        "    # recall that python considers zeros and boolean FALSE as the same\n",
        "    x_pred = np.zeros(x_dims)\n",
        "\n",
        "    # create a seq vector for our randomly select sequence \n",
        "    # i.e. create a numerical encoding for each char in the sequence \n",
        "    for t, char in enumerate(sentence):\n",
        "        # for sample 0 in seq index t and character `char` encode a 1 (which is the same as a TRUE)\n",
        "        x_pred[0, t, dctk.char_int[char]] = 1\n",
        "\n",
        "    # next, take the seq vector and pass into model to get a prediction of what the next char should be \n",
        "    preds = model.predict(x_pred, verbose=0)[0]\n",
        "    # use the sample helper function to get index for next char \n",
        "    next_index = sample(preds)\n",
        "    # use look up dict to get next char \n",
        "    next_char = dctk.int_char[next_index]\n",
        "\n",
        "    # append next char to sequence \n",
        "    sentence = sentence[1:] + next_char "
      ],
      "execution_count": null,
      "outputs": []
    },
    {
      "cell_type": "code",
      "metadata": {
        "id": "mX4mYyeqbMfZ"
      },
      "source": [
        "# this is the seed string\n",
        "generated"
      ],
      "execution_count": null,
      "outputs": []
    },
    {
      "cell_type": "code",
      "metadata": {
        "id": "p-RYL09YbMfZ"
      },
      "source": [
        "# these are the 40 chars that the model thinks should come after the seed stirng\n",
        "sentence"
      ],
      "execution_count": null,
      "outputs": []
    },
    {
      "cell_type": "code",
      "metadata": {
        "id": "p0iAcM_abMfZ"
      },
      "source": [
        "# how put it all together\n",
        "generated + sentence"
      ],
      "execution_count": null,
      "outputs": []
    },
    {
      "cell_type": "markdown",
      "metadata": {
        "id": "zE4a4O7Bp5x1"
      },
      "source": [
        "# Resources and Stretch Goals"
      ]
    },
    {
      "cell_type": "markdown",
      "metadata": {
        "id": "uT3UV3gap9H6"
      },
      "source": [
        "## Stretch goals:\n",
        "- Refine the training and generation of text to be able to ask for different genres/styles of Shakespearean text (e.g. plays versus sonnets)\n",
        "- Train a classification model that takes text and returns which work of Shakespeare it is most likely to be from\n",
        "- Make it more performant! Many possible routes here - lean on Keras, optimize the code, and/or use more resources (AWS, etc.)\n",
        "- Revisit the news example from class, and improve it - use categories or tags to refine the model/generation, or train a news classifier\n",
        "- Run on bigger, better data\n",
        "\n",
        "## Resources:\n",
        "- [The Unreasonable Effectiveness of Recurrent Neural Networks](https://karpathy.github.io/2015/05/21/rnn-effectiveness/) - a seminal writeup demonstrating a simple but effective character-level NLP RNN\n",
        "- [Simple NumPy implementation of RNN](https://github.com/JY-Yoon/RNN-Implementation-using-NumPy/blob/master/RNN%20Implementation%20using%20NumPy.ipynb) - Python 3 version of the code from \"Unreasonable Effectiveness\"\n",
        "- [TensorFlow RNN Tutorial](https://github.com/tensorflow/models/tree/master/tutorials/rnn) - code for training a RNN on the Penn Tree Bank language dataset\n",
        "- [4 part tutorial on RNN](http://www.wildml.com/2015/09/recurrent-neural-networks-tutorial-part-1-introduction-to-rnns/) - relates RNN to the vanishing gradient problem, and provides example implementation\n",
        "- [RNN training tips and tricks](https://github.com/karpathy/char-rnn#tips-and-tricks) - some rules of thumb for parameterizing and training your RNN"
      ]
    }
  ]
}